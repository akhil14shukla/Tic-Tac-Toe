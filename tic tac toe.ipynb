{
 "cells": [
  {
   "cell_type": "code",
   "execution_count": 33,
   "metadata": {},
   "outputs": [],
   "source": [
    "def display(board):\n",
    "    print(board[7] + '|' + board[8] + '|' + board[9])\n",
    "    print(board[4] + '|' + board[5] + '|' + board[6])\n",
    "    print(board[1] + '|' + board[2] + '|' + board[3])"
   ]
  },
  {
   "cell_type": "code",
   "execution_count": 34,
   "metadata": {},
   "outputs": [],
   "source": [
    "board = ['O',' ',' ',' ',' ',' ',' ',' ',' ',' ']"
   ]
  },
  {
   "cell_type": "code",
   "execution_count": 35,
   "metadata": {},
   "outputs": [
    {
     "name": "stdout",
     "output_type": "stream",
     "text": [
      " | | \n",
      " | | \n",
      " | | \n"
     ]
    }
   ],
   "source": [
    "display(board)"
   ]
  },
  {
   "cell_type": "code",
   "execution_count": 36,
   "metadata": {},
   "outputs": [],
   "source": [
    "def check(board):\n",
    "    if (board[1] == board[2] == board[3]) and board[1] !=' ':\n",
    "        return True\n",
    "    if (board[4] == board[5] == board[6]) and board[4] !=' ':\n",
    "        return True\n",
    "    if (board[7] == board[8] == board[9]) and board[7] !=' ':\n",
    "        return True\n",
    "    if (board[1] == board[5] == board[9]) and board[1] !=' ':\n",
    "        return True\n",
    "    if (board[2] == board[4] == board[8]) and board[2] !=' ':\n",
    "        return True\n",
    "    if (board[3] == board[5] == board[7]) and board[3] !=' ':\n",
    "        return True\n",
    "    \n",
    "    return False"
   ]
  },
  {
   "cell_type": "code",
   "execution_count": 37,
   "metadata": {},
   "outputs": [],
   "source": [
    "def game():\n",
    "    start = input(\"Ready to start the game ( Y or N ) : \")\n",
    "    if start == 'Y':\n",
    "        P1 = 'Z'\n",
    "        while P1!='X' and P1!='O':\n",
    "            P1 = input(\"Player 1, choose your symbol (X or O) : \")\n",
    "            if P1!='X' and P1!='O':\n",
    "                print(\"PLease choose the symbol from the options given....\")\n",
    "        if P1 == 'X':\n",
    "            P2 = 'O'\n",
    "        else:\n",
    "            P2 = 'X'\n",
    "        i = 0\n",
    "        while(i<9):\n",
    "            index = 'Z'\n",
    "            display(board)\n",
    "            while index.isdigit() == False:\n",
    "                index = input(\"Player 1 where do you want to insert you symbol ( 1 - 9) : \")\n",
    "                if index.isdigit() == False:\n",
    "                    print(\"Please enter a digit in between 1 to 9\")\n",
    "                if index.isdigit() == True and board[int(index)]!=' ':\n",
    "                    print(\"Choose another index please, this one is already occupied..\")\n",
    "                    index = 'Z'\n",
    "                    \n",
    "            board[int(index)] = P1\n",
    "            i = i+1\n",
    "            display(board)\n",
    "            if check(board) == True:\n",
    "                print(\"Player 1 won the game....\")\n",
    "                return \"1\"\n",
    "                break\n",
    "            if i == 9:\n",
    "                break\n",
    "                \n",
    "            index = 'Z'\n",
    "            while index.isdigit() == False:\n",
    "                index = input(\"Player 2 where do you want to insert you symbol ( 1 - 9) : \")\n",
    "                if index.isdigit() == False:\n",
    "                    print(\"Please enter a digit in between 1 to 9\")\n",
    "                if index.isdigit() == True and board[int(index)]!=' ':\n",
    "                    print(\"Choose another index please, this one is already occupied..\")\n",
    "                    index = 'Z'\n",
    "                    \n",
    "            board[int(index)] = P2\n",
    "            i = i+1\n",
    "            display(board)\n",
    "            if check(board) == True:\n",
    "                print(\"Player 2 won the game....\")\n",
    "                return \"2\"\n",
    "                break\n",
    "        if check(board) == False:\n",
    "            print(\"Match is Draw..\")\n",
    "    else:\n",
    "        print(\"your loss!!\")\n",
    "            \n",
    "            "
   ]
  },
  {
   "cell_type": "code",
   "execution_count": null,
   "metadata": {},
   "outputs": [
    {
     "name": "stdout",
     "output_type": "stream",
     "text": [
      "Ready to start the game ( Y or N ) : Y\n",
      "Player 1, choose your symbol (X or O) : O\n",
      "Player 1 where do you want to insert you symbol ( 1 - 9) : 1\n",
      " | | \n",
      " | | \n",
      "O| | \n",
      "Player 2 where do you want to insert you symbol ( 1 - 9) : 2\n",
      " | | \n",
      " | | \n",
      "O|X| \n",
      "Player 1 where do you want to insert you symbol ( 1 - 9) : 3\n",
      " | | \n",
      " | | \n",
      "O|X|O\n",
      "Player 2 where do you want to insert you symbol ( 1 - 9) : 5\n",
      " | | \n",
      " |X| \n",
      "O|X|O\n",
      "Player 1 where do you want to insert you symbol ( 1 - 9) : 8\n",
      " |O| \n",
      " |X| \n",
      "O|X|O\n",
      "Player 2 where do you want to insert you symbol ( 1 - 9) : 4\n",
      " |O| \n",
      "X|X| \n",
      "O|X|O\n",
      "Player 1 where do you want to insert you symbol ( 1 - 9) : 6\n",
      " |O| \n",
      "X|X|O\n",
      "O|X|O\n",
      "Player 2 where do you want to insert you symbol ( 1 - 9) : 9\n",
      " |O|X\n",
      "X|X|O\n",
      "O|X|O\n",
      "Player 1 where do you want to insert you symbol ( 1 - 9) : 7\n",
      "O|O|X\n",
      "X|X|O\n",
      "O|X|O\n"
     ]
    }
   ],
   "source": [
    "game()"
   ]
  },
  {
   "cell_type": "code",
   "execution_count": null,
   "metadata": {},
   "outputs": [],
   "source": []
  }
 ],
 "metadata": {
  "kernelspec": {
   "display_name": "Python 3",
   "language": "python",
   "name": "python3"
  },
  "language_info": {
   "codemirror_mode": {
    "name": "ipython",
    "version": 3
   },
   "file_extension": ".py",
   "mimetype": "text/x-python",
   "name": "python",
   "nbconvert_exporter": "python",
   "pygments_lexer": "ipython3",
   "version": "3.7.6"
  }
 },
 "nbformat": 4,
 "nbformat_minor": 4
}
